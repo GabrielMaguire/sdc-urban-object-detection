{
 "cells": [
  {
   "cell_type": "markdown",
   "metadata": {},
   "source": [
    "# Explore data augmentations\n",
    "\n",
    "This notebook will be used to test different data augmentation strategies. In your config file, you can modify the augmentations by adding `data_augmentation_options`. For example, I would like to add a random RGB to gray transform with a probability of 0.2:\n",
    "```\n",
    "data_augmentation_options {\n",
    "    random_rgb_to_gray {\n",
    "    probability: 0.2\n",
    "    }\n",
    "```\n",
    "\n",
    "A complete list of augmentation is provided the [`preprocessor.proto` file of the Tf Object Detection API](https://github.com/tensorflow/models/blob/master/research/object_detection/protos/preprocessor.proto)."
   ]
  },
  {
   "cell_type": "markdown",
   "metadata": {},
   "source": [
    "### Helper functions"
   ]
  },
  {
   "cell_type": "code",
   "execution_count": 1,
   "metadata": {},
   "outputs": [],
   "source": [
    "import matplotlib.pyplot as plt\n",
    "import numpy as np\n",
    "from matplotlib.patches import Rectangle"
   ]
  },
  {
   "cell_type": "code",
   "execution_count": 2,
   "metadata": {},
   "outputs": [],
   "source": [
    "def recenter_image(image):\n",
    "    # ssd preprocessing\n",
    "    image += [123.68, 116.779, 103.939]\n",
    "    return image\n",
    "\n",
    "def display_instances(image, bboxes, classes):\n",
    "    image = recenter_image(image)\n",
    "    w, h, _ = image.shape\n",
    "    # resize the bboxes\n",
    "    bboxes[:, [0, 2]] *= w\n",
    "    bboxes[:, [1, 3]] *= h\n",
    "    \n",
    "    f, ax = plt.subplots(1, figsize=(10, 10))\n",
    "    ax.imshow(image.astype(np.uint8))\n",
    "    for bb, cl in zip(bboxes, classes):\n",
    "        y1, x1, y2, x2 = bb\n",
    "        rec = Rectangle((x1, y1), x2-x1, y2-y1, facecolor='none', edgecolor='r', linewidth=2)\n",
    "        ax.add_patch(rec)\n",
    "    plt.show()\n",
    "\n",
    "def display_batch(batch):\n",
    "    # get images, bboxes and classes\n",
    "    batched_images = batch[0]['image'].numpy()\n",
    "    batched_bboxes = batch[1]['groundtruth_boxes'].numpy()\n",
    "    batched_classes = batch[1]['groundtruth_classes'].numpy()\n",
    "    num_bboxes = batch[1]['num_groundtruth_boxes'].numpy()\n",
    "    batch_size = batched_images.shape[0]\n",
    "    for idx in range(batch_size):\n",
    "        display_instances(batched_images[idx, ...], \n",
    "                          batched_bboxes[idx, :num_bboxes[idx], :],\n",
    "                          batched_classes[idx, ...])"
   ]
  },
  {
   "cell_type": "markdown",
   "metadata": {},
   "source": [
    "### Display augmentations"
   ]
  },
  {
   "cell_type": "code",
   "execution_count": 3,
   "metadata": {},
   "outputs": [],
   "source": [
    "from utils import get_train_input"
   ]
  },
  {
   "cell_type": "code",
   "execution_count": 4,
   "metadata": {},
   "outputs": [
    {
     "name": "stdout",
     "output_type": "stream",
     "text": [
      "INFO:tensorflow:Reading unweighted datasets: ['/home/workspace/data/training/segment-1005081002024129653_5313_150_5333_150_with_camera_labels.tfrecord', '/home/workspace/data/training/segment-10963653239323173269_1924_000_1944_000_with_camera_labels.tfrecord', '/home/workspace/data/training/segment-11017034898130016754_697_830_717_830_with_camera_labels.tfrecord', '/home/workspace/data/training/segment-12179768245749640056_5561_070_5581_070_with_camera_labels.tfrecord', '/home/workspace/data/training/segment-10500357041547037089_1474_800_1494_800_with_camera_labels.tfrecord', '/home/workspace/data/training/segment-11388947676680954806_5427_320_5447_320_with_camera_labels.tfrecord', '/home/workspace/data/training/segment-11199484219241918646_2810_030_2830_030_with_camera_labels.tfrecord', '/home/workspace/data/training/segment-10072140764565668044_4060_000_4080_000_with_camera_labels.tfrecord', '/home/workspace/data/training/segment-1051897962568538022_238_170_258_170_with_camera_labels.tfrecord', '/home/workspace/data/training/segment-10940952441434390507_1888_710_1908_710_with_camera_labels.tfrecord', '/home/workspace/data/training/segment-10964956617027590844_1584_680_1604_680_with_camera_labels.tfrecord', '/home/workspace/data/training/segment-10676267326664322837_311_180_331_180_with_camera_labels.tfrecord', '/home/workspace/data/training/segment-10588771936253546636_2300_000_2320_000_with_camera_labels.tfrecord', '/home/workspace/data/training/segment-1191788760630624072_3880_000_3900_000_with_camera_labels.tfrecord', '/home/workspace/data/training/segment-1208303279778032257_1360_000_1380_000_with_camera_labels.tfrecord', '/home/workspace/data/training/segment-11343624116265195592_5910_530_5930_530_with_camera_labels.tfrecord', '/home/workspace/data/training/segment-10327752107000040525_1120_000_1140_000_with_camera_labels.tfrecord', '/home/workspace/data/training/segment-11566385337103696871_5740_000_5760_000_with_camera_labels.tfrecord', '/home/workspace/data/training/segment-10498013744573185290_1240_000_1260_000_with_camera_labels.tfrecord', '/home/workspace/data/training/segment-12161824480686739258_1813_380_1833_380_with_camera_labels.tfrecord', '/home/workspace/data/training/segment-1083056852838271990_4080_000_4100_000_with_camera_labels.tfrecord', '/home/workspace/data/training/segment-11971497357570544465_1200_000_1220_000_with_camera_labels.tfrecord', '/home/workspace/data/training/segment-10625026498155904401_200_000_220_000_with_camera_labels.tfrecord', '/home/workspace/data/training/segment-11940460932056521663_1760_000_1780_000_with_camera_labels.tfrecord', '/home/workspace/data/training/segment-10596949720463106554_1933_530_1953_530_with_camera_labels.tfrecord', '/home/workspace/data/training/segment-1172406780360799916_1660_000_1680_000_with_camera_labels.tfrecord', '/home/workspace/data/training/segment-10750135302241325253_180_000_200_000_with_camera_labels.tfrecord', '/home/workspace/data/training/segment-10584247114982259878_490_000_510_000_with_camera_labels.tfrecord', '/home/workspace/data/training/segment-10455472356147194054_1560_000_1580_000_with_camera_labels.tfrecord', '/home/workspace/data/training/segment-11004685739714500220_2300_000_2320_000_with_camera_labels.tfrecord', '/home/workspace/data/training/segment-11799592541704458019_9828_750_9848_750_with_camera_labels.tfrecord', '/home/workspace/data/training/segment-11489533038039664633_4820_000_4840_000_with_camera_labels.tfrecord', '/home/workspace/data/training/segment-10241508783381919015_2889_360_2909_360_with_camera_labels.tfrecord', '/home/workspace/data/training/segment-10876852935525353526_1640_000_1660_000_with_camera_labels.tfrecord', '/home/workspace/data/training/segment-10526338824408452410_5714_660_5734_660_with_camera_labels.tfrecord', '/home/workspace/data/training/segment-10094743350625019937_3420_000_3440_000_with_camera_labels.tfrecord', '/home/workspace/data/training/segment-11355519273066561009_5323_000_5343_000_with_camera_labels.tfrecord', '/home/workspace/data/training/segment-10061305430875486848_1080_000_1100_000_with_camera_labels.tfrecord', '/home/workspace/data/training/segment-11113047206980595400_2560_000_2580_000_with_camera_labels.tfrecord', '/home/workspace/data/training/segment-11126313430116606120_1439_990_1459_990_with_camera_labels.tfrecord', '/home/workspace/data/training/segment-11119453952284076633_1369_940_1389_940_with_camera_labels.tfrecord', '/home/workspace/data/training/segment-10723911392655396041_860_000_880_000_with_camera_labels.tfrecord', '/home/workspace/data/training/segment-11183906854663518829_2294_000_2314_000_with_camera_labels.tfrecord', '/home/workspace/data/training/segment-1022527355599519580_4866_960_4886_960_with_camera_labels.tfrecord', '/home/workspace/data/training/segment-11846396154240966170_3540_000_3560_000_with_camera_labels.tfrecord', '/home/workspace/data/training/segment-11588853832866011756_2184_462_2204_462_with_camera_labels.tfrecord', '/home/workspace/data/training/segment-10075870402459732738_1060_000_1080_000_with_camera_labels.tfrecord', '/home/workspace/data/training/segment-11847506886204460250_1640_000_1660_000_with_camera_labels.tfrecord', '/home/workspace/data/training/segment-12174529769287588121_3848_440_3868_440_with_camera_labels.tfrecord', '/home/workspace/data/training/segment-11454085070345530663_1905_000_1925_000_with_camera_labels.tfrecord', '/home/workspace/data/training/segment-10927752430968246422_4940_000_4960_000_with_camera_labels.tfrecord', '/home/workspace/data/training/segment-11967272535264406807_580_000_600_000_with_camera_labels.tfrecord', '/home/workspace/data/training/segment-11623618970700582562_2840_367_2860_367_with_camera_labels.tfrecord', '/home/workspace/data/training/segment-10786629299947667143_3440_000_3460_000_with_camera_labels.tfrecord', '/home/workspace/data/training/segment-11252086830380107152_1540_000_1560_000_with_camera_labels.tfrecord', '/home/workspace/data/training/segment-10391312872392849784_4099_400_4119_400_with_camera_labels.tfrecord', '/home/workspace/data/training/segment-10082223140073588526_6140_000_6160_000_with_camera_labels.tfrecord', '/home/workspace/data/training/segment-11925224148023145510_1040_000_1060_000_with_camera_labels.tfrecord', '/home/workspace/data/training/segment-10212406498497081993_5300_000_5320_000_with_camera_labels.tfrecord', '/home/workspace/data/training/segment-10206293520369375008_2796_800_2816_800_with_camera_labels.tfrecord', '/home/workspace/data/training/segment-10153695247769592104_787_000_807_000_with_camera_labels.tfrecord', '/home/workspace/data/training/segment-10724020115992582208_7660_400_7680_400_with_camera_labels.tfrecord', '/home/workspace/data/training/segment-10975280749486260148_940_000_960_000_with_camera_labels.tfrecord', '/home/workspace/data/training/segment-10017090168044687777_6380_000_6400_000_with_camera_labels.tfrecord', '/home/workspace/data/training/segment-11674150664140226235_680_000_700_000_with_camera_labels.tfrecord', '/home/workspace/data/training/segment-10517728057304349900_3360_000_3380_000_with_camera_labels.tfrecord', '/home/workspace/data/training/segment-10923963890428322967_1445_000_1465_000_with_camera_labels.tfrecord', '/home/workspace/data/training/segment-10485926982439064520_4980_000_5000_000_with_camera_labels.tfrecord', '/home/workspace/data/training/segment-10226164909075980558_180_000_200_000_with_camera_labels.tfrecord', '/home/workspace/data/training/segment-11918003324473417938_1400_000_1420_000_with_camera_labels.tfrecord', '/home/workspace/data/training/segment-11839652018869852123_2565_000_2585_000_with_camera_labels.tfrecord', '/home/workspace/data/training/segment-11486225968269855324_92_000_112_000_with_camera_labels.tfrecord', '/home/workspace/data/training/segment-10793018113277660068_2714_540_2734_540_with_camera_labels.tfrecord', '/home/workspace/data/training/segment-10235335145367115211_5420_000_5440_000_with_camera_labels.tfrecord', '/home/workspace/data/training/segment-11318901554551149504_520_000_540_000_with_camera_labels.tfrecord', '/home/workspace/data/training/segment-10734565072045778791_440_000_460_000_with_camera_labels.tfrecord', '/home/workspace/data/training/segment-12027892938363296829_4086_280_4106_280_with_camera_labels.tfrecord']\n"
     ]
    },
    {
     "name": "stdout",
     "output_type": "stream",
     "text": [
      "INFO:tensorflow:Reading record datasets for input file: ['/home/workspace/data/training/segment-1005081002024129653_5313_150_5333_150_with_camera_labels.tfrecord', '/home/workspace/data/training/segment-10963653239323173269_1924_000_1944_000_with_camera_labels.tfrecord', '/home/workspace/data/training/segment-11017034898130016754_697_830_717_830_with_camera_labels.tfrecord', '/home/workspace/data/training/segment-12179768245749640056_5561_070_5581_070_with_camera_labels.tfrecord', '/home/workspace/data/training/segment-10500357041547037089_1474_800_1494_800_with_camera_labels.tfrecord', '/home/workspace/data/training/segment-11388947676680954806_5427_320_5447_320_with_camera_labels.tfrecord', '/home/workspace/data/training/segment-11199484219241918646_2810_030_2830_030_with_camera_labels.tfrecord', '/home/workspace/data/training/segment-10072140764565668044_4060_000_4080_000_with_camera_labels.tfrecord', '/home/workspace/data/training/segment-1051897962568538022_238_170_258_170_with_camera_labels.tfrecord', '/home/workspace/data/training/segment-10940952441434390507_1888_710_1908_710_with_camera_labels.tfrecord', '/home/workspace/data/training/segment-10964956617027590844_1584_680_1604_680_with_camera_labels.tfrecord', '/home/workspace/data/training/segment-10676267326664322837_311_180_331_180_with_camera_labels.tfrecord', '/home/workspace/data/training/segment-10588771936253546636_2300_000_2320_000_with_camera_labels.tfrecord', '/home/workspace/data/training/segment-1191788760630624072_3880_000_3900_000_with_camera_labels.tfrecord', '/home/workspace/data/training/segment-1208303279778032257_1360_000_1380_000_with_camera_labels.tfrecord', '/home/workspace/data/training/segment-11343624116265195592_5910_530_5930_530_with_camera_labels.tfrecord', '/home/workspace/data/training/segment-10327752107000040525_1120_000_1140_000_with_camera_labels.tfrecord', '/home/workspace/data/training/segment-11566385337103696871_5740_000_5760_000_with_camera_labels.tfrecord', '/home/workspace/data/training/segment-10498013744573185290_1240_000_1260_000_with_camera_labels.tfrecord', '/home/workspace/data/training/segment-12161824480686739258_1813_380_1833_380_with_camera_labels.tfrecord', '/home/workspace/data/training/segment-1083056852838271990_4080_000_4100_000_with_camera_labels.tfrecord', '/home/workspace/data/training/segment-11971497357570544465_1200_000_1220_000_with_camera_labels.tfrecord', '/home/workspace/data/training/segment-10625026498155904401_200_000_220_000_with_camera_labels.tfrecord', '/home/workspace/data/training/segment-11940460932056521663_1760_000_1780_000_with_camera_labels.tfrecord', '/home/workspace/data/training/segment-10596949720463106554_1933_530_1953_530_with_camera_labels.tfrecord', '/home/workspace/data/training/segment-1172406780360799916_1660_000_1680_000_with_camera_labels.tfrecord', '/home/workspace/data/training/segment-10750135302241325253_180_000_200_000_with_camera_labels.tfrecord', '/home/workspace/data/training/segment-10584247114982259878_490_000_510_000_with_camera_labels.tfrecord', '/home/workspace/data/training/segment-10455472356147194054_1560_000_1580_000_with_camera_labels.tfrecord', '/home/workspace/data/training/segment-11004685739714500220_2300_000_2320_000_with_camera_labels.tfrecord', '/home/workspace/data/training/segment-11799592541704458019_9828_750_9848_750_with_camera_labels.tfrecord', '/home/workspace/data/training/segment-11489533038039664633_4820_000_4840_000_with_camera_labels.tfrecord', '/home/workspace/data/training/segment-10241508783381919015_2889_360_2909_360_with_camera_labels.tfrecord', '/home/workspace/data/training/segment-10876852935525353526_1640_000_1660_000_with_camera_labels.tfrecord', '/home/workspace/data/training/segment-10526338824408452410_5714_660_5734_660_with_camera_labels.tfrecord', '/home/workspace/data/training/segment-10094743350625019937_3420_000_3440_000_with_camera_labels.tfrecord', '/home/workspace/data/training/segment-11355519273066561009_5323_000_5343_000_with_camera_labels.tfrecord', '/home/workspace/data/training/segment-10061305430875486848_1080_000_1100_000_with_camera_labels.tfrecord', '/home/workspace/data/training/segment-11113047206980595400_2560_000_2580_000_with_camera_labels.tfrecord', '/home/workspace/data/training/segment-11126313430116606120_1439_990_1459_990_with_camera_labels.tfrecord', '/home/workspace/data/training/segment-11119453952284076633_1369_940_1389_940_with_camera_labels.tfrecord', '/home/workspace/data/training/segment-10723911392655396041_860_000_880_000_with_camera_labels.tfrecord', '/home/workspace/data/training/segment-11183906854663518829_2294_000_2314_000_with_camera_labels.tfrecord', '/home/workspace/data/training/segment-1022527355599519580_4866_960_4886_960_with_camera_labels.tfrecord', '/home/workspace/data/training/segment-11846396154240966170_3540_000_3560_000_with_camera_labels.tfrecord', '/home/workspace/data/training/segment-11588853832866011756_2184_462_2204_462_with_camera_labels.tfrecord', '/home/workspace/data/training/segment-10075870402459732738_1060_000_1080_000_with_camera_labels.tfrecord', '/home/workspace/data/training/segment-11847506886204460250_1640_000_1660_000_with_camera_labels.tfrecord', '/home/workspace/data/training/segment-12174529769287588121_3848_440_3868_440_with_camera_labels.tfrecord', '/home/workspace/data/training/segment-11454085070345530663_1905_000_1925_000_with_camera_labels.tfrecord', '/home/workspace/data/training/segment-10927752430968246422_4940_000_4960_000_with_camera_labels.tfrecord', '/home/workspace/data/training/segment-11967272535264406807_580_000_600_000_with_camera_labels.tfrecord', '/home/workspace/data/training/segment-11623618970700582562_2840_367_2860_367_with_camera_labels.tfrecord', '/home/workspace/data/training/segment-10786629299947667143_3440_000_3460_000_with_camera_labels.tfrecord', '/home/workspace/data/training/segment-11252086830380107152_1540_000_1560_000_with_camera_labels.tfrecord', '/home/workspace/data/training/segment-10391312872392849784_4099_400_4119_400_with_camera_labels.tfrecord', '/home/workspace/data/training/segment-10082223140073588526_6140_000_6160_000_with_camera_labels.tfrecord', '/home/workspace/data/training/segment-11925224148023145510_1040_000_1060_000_with_camera_labels.tfrecord', '/home/workspace/data/training/segment-10212406498497081993_5300_000_5320_000_with_camera_labels.tfrecord', '/home/workspace/data/training/segment-10206293520369375008_2796_800_2816_800_with_camera_labels.tfrecord', '/home/workspace/data/training/segment-10153695247769592104_787_000_807_000_with_camera_labels.tfrecord', '/home/workspace/data/training/segment-10724020115992582208_7660_400_7680_400_with_camera_labels.tfrecord', '/home/workspace/data/training/segment-10975280749486260148_940_000_960_000_with_camera_labels.tfrecord', '/home/workspace/data/training/segment-10017090168044687777_6380_000_6400_000_with_camera_labels.tfrecord', '/home/workspace/data/training/segment-11674150664140226235_680_000_700_000_with_camera_labels.tfrecord', '/home/workspace/data/training/segment-10517728057304349900_3360_000_3380_000_with_camera_labels.tfrecord', '/home/workspace/data/training/segment-10923963890428322967_1445_000_1465_000_with_camera_labels.tfrecord', '/home/workspace/data/training/segment-10485926982439064520_4980_000_5000_000_with_camera_labels.tfrecord', '/home/workspace/data/training/segment-10226164909075980558_180_000_200_000_with_camera_labels.tfrecord', '/home/workspace/data/training/segment-11918003324473417938_1400_000_1420_000_with_camera_labels.tfrecord', '/home/workspace/data/training/segment-11839652018869852123_2565_000_2585_000_with_camera_labels.tfrecord', '/home/workspace/data/training/segment-11486225968269855324_92_000_112_000_with_camera_labels.tfrecord', '/home/workspace/data/training/segment-10793018113277660068_2714_540_2734_540_with_camera_labels.tfrecord', '/home/workspace/data/training/segment-10235335145367115211_5420_000_5440_000_with_camera_labels.tfrecord', '/home/workspace/data/training/segment-11318901554551149504_520_000_540_000_with_camera_labels.tfrecord', '/home/workspace/data/training/segment-10734565072045778791_440_000_460_000_with_camera_labels.tfrecord', '/home/workspace/data/training/segment-12027892938363296829_4086_280_4106_280_with_camera_labels.tfrecord']\n"
     ]
    },
    {
     "name": "stdout",
     "output_type": "stream",
     "text": [
      "INFO:tensorflow:Number of filenames to read: 77\n",
      "WARNING:tensorflow:From /data/virtual_envs/sdc-c1-gpu-augment/lib/python3.7/site-packages/object_detection/builders/dataset_builder.py:105: parallel_interleave (from tensorflow.python.data.experimental.ops.interleave_ops) is deprecated and will be removed in a future version.\n",
      "Instructions for updating:\n",
      "Use `tf.data.Dataset.interleave(map_func, cycle_length, block_length, num_parallel_calls=tf.data.experimental.AUTOTUNE)` instead. If sloppy execution is desired, use `tf.data.Options.experimental_deterministic`.\n",
      "WARNING:tensorflow:From /data/virtual_envs/sdc-c1-gpu-augment/lib/python3.7/site-packages/object_detection/builders/dataset_builder.py:237: DatasetV1.map_with_legacy_function (from tensorflow.python.data.ops.dataset_ops) is deprecated and will be removed in a future version.\n",
      "Instructions for updating:\n",
      "Use `tf.data.Dataset.map()\n",
      "WARNING:tensorflow:From /data/virtual_envs/sdc-c1-gpu-augment/lib/python3.7/site-packages/tensorflow/python/util/dispatch.py:201: sparse_to_dense (from tensorflow.python.ops.sparse_ops) is deprecated and will be removed in a future version.\n",
      "Instructions for updating:\n",
      "Create a `tf.sparse.SparseTensor` and use `tf.sparse.to_dense` instead.\n",
      "WARNING:tensorflow:From /data/virtual_envs/sdc-c1-gpu-augment/lib/python3.7/site-packages/object_detection/inputs.py:282: to_float (from tensorflow.python.ops.math_ops) is deprecated and will be removed in a future version.\n",
      "Instructions for updating:\n",
      "Use `tf.cast` instead.\n"
     ]
    }
   ],
   "source": [
    "train_dataset = get_train_input(\"experiments/ref_01/pipeline_new.config\")"
   ]
  },
  {
   "cell_type": "code",
   "execution_count": 5,
   "metadata": {
    "scrolled": false
   },
   "outputs": [
    {
     "ename": "ValueError",
     "evalue": "No cast function available.",
     "output_type": "error",
     "traceback": [
      "\u001b[0;31m---------------------------------------------------------------------------\u001b[0m",
      "\u001b[0;31mValueError\u001b[0m                                Traceback (most recent call last)",
      "\u001b[0;32m<ipython-input-5-8457e418fc51>\u001b[0m in \u001b[0;36m<module>\u001b[0;34m\u001b[0m\n\u001b[1;32m      2\u001b[0m \u001b[0;34m\u001b[0m\u001b[0m\n\u001b[1;32m      3\u001b[0m \u001b[0;32mfor\u001b[0m \u001b[0mbatch\u001b[0m \u001b[0;32min\u001b[0m \u001b[0mtrain_dataset\u001b[0m\u001b[0;34m.\u001b[0m\u001b[0mtake\u001b[0m\u001b[0;34m(\u001b[0m\u001b[0;36m1\u001b[0m\u001b[0;34m)\u001b[0m\u001b[0;34m:\u001b[0m\u001b[0;34m\u001b[0m\u001b[0;34m\u001b[0m\u001b[0m\n\u001b[0;32m----> 4\u001b[0;31m     \u001b[0mdisplay_batch\u001b[0m\u001b[0;34m(\u001b[0m\u001b[0mbatch\u001b[0m\u001b[0;34m)\u001b[0m\u001b[0;34m\u001b[0m\u001b[0;34m\u001b[0m\u001b[0m\n\u001b[0m",
      "\u001b[0;32m<ipython-input-2-b9b71a00afb6>\u001b[0m in \u001b[0;36mdisplay_batch\u001b[0;34m(batch)\u001b[0m\n\u001b[1;32m     29\u001b[0m         display_instances(batched_images[idx, ...], \n\u001b[1;32m     30\u001b[0m                           \u001b[0mbatched_bboxes\u001b[0m\u001b[0;34m[\u001b[0m\u001b[0midx\u001b[0m\u001b[0;34m,\u001b[0m \u001b[0;34m:\u001b[0m\u001b[0mnum_bboxes\u001b[0m\u001b[0;34m[\u001b[0m\u001b[0midx\u001b[0m\u001b[0;34m]\u001b[0m\u001b[0;34m,\u001b[0m \u001b[0;34m:\u001b[0m\u001b[0;34m]\u001b[0m\u001b[0;34m,\u001b[0m\u001b[0;34m\u001b[0m\u001b[0;34m\u001b[0m\u001b[0m\n\u001b[0;32m---> 31\u001b[0;31m                           batched_classes[idx, ...])\n\u001b[0m",
      "\u001b[0;32m<ipython-input-2-b9b71a00afb6>\u001b[0m in \u001b[0;36mdisplay_instances\u001b[0;34m(image, bboxes, classes)\u001b[0m\n\u001b[1;32m     12\u001b[0m \u001b[0;34m\u001b[0m\u001b[0m\n\u001b[1;32m     13\u001b[0m     \u001b[0mf\u001b[0m\u001b[0;34m,\u001b[0m \u001b[0max\u001b[0m \u001b[0;34m=\u001b[0m \u001b[0mplt\u001b[0m\u001b[0;34m.\u001b[0m\u001b[0msubplots\u001b[0m\u001b[0;34m(\u001b[0m\u001b[0;36m1\u001b[0m\u001b[0;34m,\u001b[0m \u001b[0mfigsize\u001b[0m\u001b[0;34m=\u001b[0m\u001b[0;34m(\u001b[0m\u001b[0;36m10\u001b[0m\u001b[0;34m,\u001b[0m \u001b[0;36m10\u001b[0m\u001b[0;34m)\u001b[0m\u001b[0;34m)\u001b[0m\u001b[0;34m\u001b[0m\u001b[0;34m\u001b[0m\u001b[0m\n\u001b[0;32m---> 14\u001b[0;31m     \u001b[0max\u001b[0m\u001b[0;34m.\u001b[0m\u001b[0mimshow\u001b[0m\u001b[0;34m(\u001b[0m\u001b[0mimage\u001b[0m\u001b[0;34m.\u001b[0m\u001b[0mastype\u001b[0m\u001b[0;34m(\u001b[0m\u001b[0mnp\u001b[0m\u001b[0;34m.\u001b[0m\u001b[0muint8\u001b[0m\u001b[0;34m)\u001b[0m\u001b[0;34m)\u001b[0m\u001b[0;34m\u001b[0m\u001b[0;34m\u001b[0m\u001b[0m\n\u001b[0m\u001b[1;32m     15\u001b[0m     \u001b[0;32mfor\u001b[0m \u001b[0mbb\u001b[0m\u001b[0;34m,\u001b[0m \u001b[0mcl\u001b[0m \u001b[0;32min\u001b[0m \u001b[0mzip\u001b[0m\u001b[0;34m(\u001b[0m\u001b[0mbboxes\u001b[0m\u001b[0;34m,\u001b[0m \u001b[0mclasses\u001b[0m\u001b[0;34m)\u001b[0m\u001b[0;34m:\u001b[0m\u001b[0;34m\u001b[0m\u001b[0;34m\u001b[0m\u001b[0m\n\u001b[1;32m     16\u001b[0m         \u001b[0my1\u001b[0m\u001b[0;34m,\u001b[0m \u001b[0mx1\u001b[0m\u001b[0;34m,\u001b[0m \u001b[0my2\u001b[0m\u001b[0;34m,\u001b[0m \u001b[0mx2\u001b[0m \u001b[0;34m=\u001b[0m \u001b[0mbb\u001b[0m\u001b[0;34m\u001b[0m\u001b[0;34m\u001b[0m\u001b[0m\n",
      "\u001b[0;31mValueError\u001b[0m: No cast function available."
     ]
    },
    {
     "data": {
      "image/png": "[encoded data removed]",
      "text/plain": [
       "<Figure size 720x720 with 1 Axes>"
      ]
     },
     "metadata": {
      "needs_background": "light"
     },
     "output_type": "display_data"
    }
   ],
   "source": [
    "%matplotlib inline\n",
    "\n",
    "for batch in train_dataset.take(1):\n",
    "    display_batch(batch)"
   ]
  }
 ],
 "metadata": {
  "kernelspec": {
   "display_name": "Python 3",
   "language": "python",
   "name": "python3"
  },
  "language_info": {
   "codemirror_mode": {
    "name": "ipython",
    "version": 3
   },
   "file_extension": ".py",
   "mimetype": "text/x-python",
   "name": "python",
   "nbconvert_exporter": "python",
   "pygments_lexer": "ipython3",
   "version": "3.7.3"
  }
 },
 "nbformat": 4,
 "nbformat_minor": 4
}
